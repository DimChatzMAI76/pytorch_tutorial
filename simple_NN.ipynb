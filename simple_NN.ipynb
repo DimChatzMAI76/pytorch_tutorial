{
  "nbformat": 4,
  "nbformat_minor": 0,
  "metadata": {
    "colab": {
      "provenance": [],
      "authorship_tag": "ABX9TyPMm6/JNeUa2DauJBBaWJWX",
      "include_colab_link": true
    },
    "kernelspec": {
      "name": "python3",
      "display_name": "Python 3"
    },
    "language_info": {
      "name": "python"
    }
  },
  "cells": [
    {
      "cell_type": "markdown",
      "metadata": {
        "id": "view-in-github",
        "colab_type": "text"
      },
      "source": [
        "<a href=\"https://colab.research.google.com/github/DimChatzMAI76/pytorch_tutorial/blob/main/simple_NN.ipynb\" target=\"_parent\"><img src=\"https://colab.research.google.com/assets/colab-badge.svg\" alt=\"Open In Colab\"/></a>"
      ]
    },
    {
      "cell_type": "code",
      "execution_count": 1,
      "metadata": {
        "id": "Pfx1je-JA9Mt"
      },
      "outputs": [],
      "source": [
        "import torch\n",
        "import torch.nn as nn\n",
        "import torch.nn.functional as F\n"
      ]
    },
    {
      "cell_type": "code",
      "source": [
        "#create a model class that inherits the nn.Module\n",
        "class Model(nn.Module):\n",
        "    #input layer(4 features)-->hidden layer 1(# of neurons)\n",
        "    #--> H2(n)-->output(3 classes of flowers)\n",
        "    def __init__(self,in_features=4,h1=8,h2=9,out_features=3):\n",
        "        super().__init__()\n",
        "        self.fc1=nn.Linear(in_features,h1)\n",
        "        self.fc2=nn.Linear(h1,h2)\n",
        "        self.out=nn.Linear(h2,out_features)\n",
        "\n",
        "    def forward(self,x):\n",
        "      x=F.relu(self.fc1(x))\n",
        "      x=F.relu(self.fc2(x))\n",
        "      x=self.out(x)\n",
        "      return x\n",
        "\n",
        "\n",
        "\n",
        ""
      ],
      "metadata": {
        "id": "RgHKWOQxEyLR"
      },
      "execution_count": 2,
      "outputs": []
    },
    {
      "cell_type": "code",
      "source": [
        "#pick a manual seed for randomization\n",
        "torch.manual_seed(41)\n",
        "#create an instance of model\n",
        "model=Model()"
      ],
      "metadata": {
        "id": "_jMakBf9Gf2T"
      },
      "execution_count": 4,
      "outputs": []
    },
    {
      "cell_type": "code",
      "source": [],
      "metadata": {
        "id": "7vYNiNEEGya8"
      },
      "execution_count": null,
      "outputs": []
    }
  ]
}